{
 "cells": [
  {
   "cell_type": "markdown",
   "id": "d77828ad-8f0f-464e-8c80-f3ee3f71b789",
   "metadata": {},
   "source": [
    "# Homework"
   ]
  },
  {
   "cell_type": "code",
   "execution_count": 59,
   "id": "c3a0d1fe-1854-4092-91f8-8de931cce2e6",
   "metadata": {},
   "outputs": [],
   "source": [
    "import pyspark\n",
    "from pyspark.sql import SparkSession\n",
    "from pyspark.sql.functions import col, date_trunc\n",
    "from pyspark.sql import types"
   ]
  },
  {
   "cell_type": "code",
   "execution_count": null,
   "id": "57e5c74b-85a3-41d2-a992-da86207e1714",
   "metadata": {
    "scrolled": true
   },
   "outputs": [],
   "source": [
    "spark = SparkSession.builder \\\n",
    "    .master('local[*]') \\\n",
    "    .appName('homework') \\\n",
    "    .getOrCreate()"
   ]
  },
  {
   "cell_type": "markdown",
   "id": "70be6cae-36ac-4038-ae8b-bc803f5e275b",
   "metadata": {},
   "source": [
    "## Q1"
   ]
  },
  {
   "cell_type": "code",
   "execution_count": 61,
   "id": "ba9b4ab8-d9da-403a-a2db-f3239ce4563a",
   "metadata": {},
   "outputs": [
    {
     "data": {
      "text/plain": [
       "'3.5.3'"
      ]
     },
     "execution_count": 61,
     "metadata": {},
     "output_type": "execute_result"
    }
   ],
   "source": [
    "spark.version"
   ]
  },
  {
   "cell_type": "code",
   "execution_count": null,
   "id": "e2355e79-3ec6-40c0-ac8a-04df57e7b42f",
   "metadata": {},
   "outputs": [],
   "source": []
  },
  {
   "cell_type": "markdown",
   "id": "c9d28e46-dd34-466c-8bbb-f251c8fb307a",
   "metadata": {},
   "source": [
    "## Q2"
   ]
  },
  {
   "cell_type": "code",
   "execution_count": 62,
   "id": "9a6afc85-3063-4753-804b-c02ea4822f39",
   "metadata": {},
   "outputs": [],
   "source": [
    "raw_path='data/raw'\n",
    "url='https://d37ci6vzurychx.cloudfront.net/trip-data'\n",
    "file='yellow_tripdata_2024-10.parquet'"
   ]
  },
  {
   "cell_type": "code",
   "execution_count": null,
   "id": "87a3b7d8-c156-4f7e-a3ed-0415acfcf325",
   "metadata": {
    "scrolled": true
   },
   "outputs": [],
   "source": [
    "!mkdir -p $raw_path\n",
    "!wget $url/$file -O $raw_path/$file"
   ]
  },
  {
   "cell_type": "code",
   "execution_count": 64,
   "id": "31faa72a-22f6-461a-9eea-eb42d90be908",
   "metadata": {},
   "outputs": [],
   "source": [
    "df_yellow = spark \\\n",
    "    .read.parquet(f\"{raw_path}/{file}\")"
   ]
  },
  {
   "cell_type": "code",
   "execution_count": 18,
   "id": "dc4b0cfa-3e0d-4d39-ba3d-2557b2a9c855",
   "metadata": {},
   "outputs": [],
   "source": [
    "pq_path = 'data/pq'"
   ]
  },
  {
   "cell_type": "code",
   "execution_count": 65,
   "id": "a212dbd6-4313-4466-a95f-2a9924314143",
   "metadata": {},
   "outputs": [
    {
     "name": "stderr",
     "output_type": "stream",
     "text": [
      "                                                                                "
     ]
    }
   ],
   "source": [
    "df_yellow \\\n",
    "    .repartition(4) \\\n",
    "    .write.parquet(pq_path, mode='overwrite')"
   ]
  },
  {
   "cell_type": "code",
   "execution_count": 66,
   "id": "7dc16a00-b5c7-47b8-bc55-6af742ef9761",
   "metadata": {
    "scrolled": true
   },
   "outputs": [
    {
     "name": "stdout",
     "output_type": "stream",
     "text": [
      "23M part-00000-c4a40f06-2ade-4153-a384-2f1fb5fb3fd8-c000.snappy.parquet\n",
      "23M part-00001-c4a40f06-2ade-4153-a384-2f1fb5fb3fd8-c000.snappy.parquet\n",
      "23M part-00002-c4a40f06-2ade-4153-a384-2f1fb5fb3fd8-c000.snappy.parquet\n",
      "23M part-00003-c4a40f06-2ade-4153-a384-2f1fb5fb3fd8-c000.snappy.parquet\n"
     ]
    }
   ],
   "source": [
    "!ls -hs $pq_path | grep .parquet"
   ]
  },
  {
   "cell_type": "code",
   "execution_count": null,
   "id": "cae69291-4469-466c-81d9-c76e67f53940",
   "metadata": {},
   "outputs": [],
   "source": []
  },
  {
   "cell_type": "markdown",
   "id": "bf377f57-3194-418f-bc9d-66b606980572",
   "metadata": {},
   "source": [
    "## Q3"
   ]
  },
  {
   "cell_type": "code",
   "execution_count": 8,
   "id": "54d7dfaf-16a4-4c36-a513-f24487c92b29",
   "metadata": {},
   "outputs": [
    {
     "name": "stderr",
     "output_type": "stream",
     "text": [
      "                                                                                "
     ]
    }
   ],
   "source": [
    "pq_path = 'data/pq'\n",
    "\n",
    "df_yellow = spark \\\n",
    "    .read.parquet(f\"{pq_path}\")"
   ]
  },
  {
   "cell_type": "code",
   "execution_count": 50,
   "id": "96bbacd9-b6e0-46b4-a9fe-874657c0bb5d",
   "metadata": {
    "scrolled": true
   },
   "outputs": [
    {
     "name": "stdout",
     "output_type": "stream",
     "text": [
      "root\n",
      " |-- VendorID: integer (nullable = true)\n",
      " |-- tpep_pickup_datetime: timestamp_ntz (nullable = true)\n",
      " |-- tpep_dropoff_datetime: timestamp_ntz (nullable = true)\n",
      " |-- passenger_count: long (nullable = true)\n",
      " |-- trip_distance: double (nullable = true)\n",
      " |-- RatecodeID: long (nullable = true)\n",
      " |-- store_and_fwd_flag: string (nullable = true)\n",
      " |-- PULocationID: integer (nullable = true)\n",
      " |-- DOLocationID: integer (nullable = true)\n",
      " |-- payment_type: long (nullable = true)\n",
      " |-- fare_amount: double (nullable = true)\n",
      " |-- extra: double (nullable = true)\n",
      " |-- mta_tax: double (nullable = true)\n",
      " |-- tip_amount: double (nullable = true)\n",
      " |-- tolls_amount: double (nullable = true)\n",
      " |-- improvement_surcharge: double (nullable = true)\n",
      " |-- total_amount: double (nullable = true)\n",
      " |-- congestion_surcharge: double (nullable = true)\n",
      " |-- Airport_fee: double (nullable = true)\n",
      "\n"
     ]
    }
   ],
   "source": [
    "df_yellow.printSchema()"
   ]
  },
  {
   "cell_type": "code",
   "execution_count": 55,
   "id": "5797ac00-7372-4b57-8c05-a509dc74bf53",
   "metadata": {},
   "outputs": [
    {
     "name": "stderr",
     "output_type": "stream",
     "text": [
      "                                                                                "
     ]
    },
    {
     "data": {
      "text/plain": [
       "128893"
      ]
     },
     "execution_count": 55,
     "metadata": {},
     "output_type": "execute_result"
    }
   ],
   "source": [
    "df_yellow \\\n",
    "    .filter(date_trunc('day', col('tpep_pickup_datetime'))  == '2024-10-15') \\\n",
    "    .count()"
   ]
  },
  {
   "cell_type": "code",
   "execution_count": null,
   "id": "11c2498c-03e9-47b0-8d35-0c0f35c0a6fc",
   "metadata": {},
   "outputs": [],
   "source": []
  },
  {
   "cell_type": "markdown",
   "id": "04613d2b-23b9-4956-be25-78ee21fd4bc9",
   "metadata": {},
   "source": [
    "## Q4"
   ]
  },
  {
   "cell_type": "code",
   "execution_count": 60,
   "id": "9dfe82f3-5cf5-4209-a471-1fd188905349",
   "metadata": {},
   "outputs": [
    {
     "name": "stderr",
     "output_type": "stream",
     "text": [
      "[Stage 68:>                                                         (0 + 4) / 4]"
     ]
    },
    {
     "name": "stdout",
     "output_type": "stream",
     "text": [
      "+--------------------+---------------------+------------+------------+-------------+\n",
      "|tpep_pickup_datetime|tpep_dropoff_datetime|PULocationID|DOLocationID|duration_hour|\n",
      "+--------------------+---------------------+------------+------------+-------------+\n",
      "| 2024-10-16 13:03:49|  2024-10-23 07:40:53|          48|         265|       162.62|\n",
      "+--------------------+---------------------+------------+------------+-------------+\n",
      "\n"
     ]
    },
    {
     "name": "stderr",
     "output_type": "stream",
     "text": [
      "                                                                                "
     ]
    }
   ],
   "source": [
    "df_yellow \\\n",
    "    .select(\n",
    "        col('tpep_pickup_datetime'),\n",
    "        col('tpep_dropoff_datetime'),\n",
    "        col('PULocationID'),\n",
    "        col('DOLocationID')\n",
    "    ) \\\n",
    "    .withColumn(\n",
    "        'duration_hour',\n",
    "        round((unix_timestamp('tpep_dropoff_datetime') - unix_timestamp('tpep_pickup_datetime'))/3600, 2)\n",
    "    ) \\\n",
    "    .orderBy(col('duration_hour').desc()) \\\n",
    "    .limit(1) \\\n",
    "    .show()"
   ]
  },
  {
   "cell_type": "code",
   "execution_count": null,
   "id": "275df047-0fd7-404e-aa8c-b109e16d0acc",
   "metadata": {},
   "outputs": [],
   "source": []
  },
  {
   "cell_type": "markdown",
   "id": "5b47c8b9-b815-47ad-8b95-cfea2e638eac",
   "metadata": {},
   "source": [
    "## Q5"
   ]
  },
  {
   "cell_type": "markdown",
   "id": "13ddb9d4-5196-4bae-807a-33733b8465de",
   "metadata": {},
   "source": [
    "Port: 4040"
   ]
  },
  {
   "cell_type": "code",
   "execution_count": null,
   "id": "79ed7fe7-e77e-4182-8c96-22c4b32ddf8e",
   "metadata": {},
   "outputs": [],
   "source": [
    "# Use this command to check the current session UI port.\n",
    "spark.sparkContext.uiWebUrl"
   ]
  },
  {
   "cell_type": "code",
   "execution_count": null,
   "id": "bb5dd5f0-9762-4b77-9523-d6282ee5c1dc",
   "metadata": {},
   "outputs": [],
   "source": []
  },
  {
   "cell_type": "markdown",
   "id": "38e21cfe-b269-465d-83f8-7110ec34a153",
   "metadata": {},
   "source": [
    "## Q6"
   ]
  },
  {
   "cell_type": "code",
   "execution_count": 18,
   "id": "66aad682-c163-4f92-b5ec-c428aacfdcd8",
   "metadata": {},
   "outputs": [],
   "source": [
    "zones_path='../code/zones/'\n",
    "df_zones = spark.read.parquet(zones_path)"
   ]
  },
  {
   "cell_type": "code",
   "execution_count": 19,
   "id": "6151462f-0016-4b38-9f6a-90e6b5754ee6",
   "metadata": {},
   "outputs": [
    {
     "name": "stdout",
     "output_type": "stream",
     "text": [
      "root\n",
      " |-- LocationID: string (nullable = true)\n",
      " |-- Borough: string (nullable = true)\n",
      " |-- Zone: string (nullable = true)\n",
      " |-- service_zone: string (nullable = true)\n",
      "\n"
     ]
    }
   ],
   "source": [
    "df_zones.printSchema()"
   ]
  },
  {
   "cell_type": "code",
   "execution_count": 20,
   "id": "8f2b25d9-5957-4daf-9eb1-3b34aef9d0d2",
   "metadata": {},
   "outputs": [],
   "source": [
    "df_yellow.createOrReplaceTempView('yellow_trips')\n",
    "df_zones.createOrReplaceTempView('zones')"
   ]
  },
  {
   "cell_type": "code",
   "execution_count": 58,
   "id": "b37c3855-028d-40d1-82b0-d9882dab90e2",
   "metadata": {
    "scrolled": true
   },
   "outputs": [
    {
     "name": "stdout",
     "output_type": "stream",
     "text": [
      "+--------------------+-----+\n",
      "|                Zone|Trips|\n",
      "+--------------------+-----+\n",
      "|Governor's Island...|    1|\n",
      "|       Arden Heights|    2|\n",
      "|       Rikers Island|    2|\n",
      "+--------------------+-----+\n",
      "\n"
     ]
    }
   ],
   "source": [
    "query = \"\"\"\n",
    "    SELECT \n",
    "        Zone,\n",
    "        count(*) as Trips\n",
    "    FROM yellow_trips t\n",
    "    LEFT JOIN zones z\n",
    "    ON t.PULocationID == z.LocationID\n",
    "    GROUP BY 1\n",
    "    ORDER BY 2 ASC\n",
    "    LIMIT 3\n",
    "\"\"\" \n",
    "spark.sql(query).show()"
   ]
  },
  {
   "cell_type": "code",
   "execution_count": null,
   "id": "9a29252c-1865-4874-9aa8-fa9348584475",
   "metadata": {},
   "outputs": [],
   "source": []
  }
 ],
 "metadata": {
  "kernelspec": {
   "display_name": "Python 3 (ipykernel)",
   "language": "python",
   "name": "python3"
  },
  "language_info": {
   "codemirror_mode": {
    "name": "ipython",
    "version": 3
   },
   "file_extension": ".py",
   "mimetype": "text/x-python",
   "name": "python",
   "nbconvert_exporter": "python",
   "pygments_lexer": "ipython3",
   "version": "3.12.9"
  }
 },
 "nbformat": 4,
 "nbformat_minor": 5
}
