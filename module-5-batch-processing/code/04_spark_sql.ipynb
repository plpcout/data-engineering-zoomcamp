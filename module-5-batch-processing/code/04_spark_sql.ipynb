{
 "cells": [
  {
   "cell_type": "markdown",
   "id": "c8c24eef-519e-49c1-9b07-a981fff5b241",
   "metadata": {},
   "source": [
    "## SQL"
   ]
  },
  {
   "cell_type": "code",
   "execution_count": 2,
   "id": "be9cb11c-409e-441e-9f63-7e15a3d8f55a",
   "metadata": {},
   "outputs": [],
   "source": [
    "import pyspark\n",
    "from pyspark.sql import SparkSession\n",
    "from pyspark.sql import functions as F "
   ]
  },
  {
   "cell_type": "code",
   "execution_count": null,
   "id": "5a9e8ea0-6423-464e-b5c2-ed9ed887937c",
   "metadata": {},
   "outputs": [],
   "source": [
    "spark = SparkSession.builder \\\n",
    "    .master(\"local[*]\") \\\n",
    "    .appName('sparksql') \\\n",
    "    .getOrCreate()"
   ]
  },
  {
   "cell_type": "code",
   "execution_count": 24,
   "id": "337ddb46-6942-435a-85a2-0f0a8d0742fb",
   "metadata": {},
   "outputs": [],
   "source": [
    "# Spark dfs\n",
    "df_green = spark.read.parquet('data/pq/green/*/*')\n",
    "df_yellow = spark.read.parquet('data/pq/yellow/*/*')"
   ]
  },
  {
   "cell_type": "code",
   "execution_count": 36,
   "id": "d02edb63-f998-4094-9bc2-cf1bb2385809",
   "metadata": {},
   "outputs": [
    {
     "name": "stdout",
     "output_type": "stream",
     "text": [
      "Green Schema\n",
      "root\n",
      " |-- VendorID: integer (nullable = true)\n",
      " |-- lpep_pickup_datetime: timestamp (nullable = true)\n",
      " |-- lpep_dropoff_datetime: timestamp (nullable = true)\n",
      " |-- store_and_fwd_flag: string (nullable = true)\n",
      " |-- RatecodeID: integer (nullable = true)\n",
      " |-- PULocationID: integer (nullable = true)\n",
      " |-- DOLocationID: integer (nullable = true)\n",
      " |-- passenger_count: integer (nullable = true)\n",
      " |-- trip_distance: double (nullable = true)\n",
      " |-- fare_amount: double (nullable = true)\n",
      " |-- extra: double (nullable = true)\n",
      " |-- mta_tax: double (nullable = true)\n",
      " |-- tip_amount: double (nullable = true)\n",
      " |-- tolls_amount: double (nullable = true)\n",
      " |-- ehail_fee: double (nullable = true)\n",
      " |-- improvement_surcharge: double (nullable = true)\n",
      " |-- total_amount: double (nullable = true)\n",
      " |-- payment_type: integer (nullable = true)\n",
      " |-- trip_type: integer (nullable = true)\n",
      " |-- congestion_surcharge: double (nullable = true)\n",
      "\n",
      "Yellow Schema\n",
      "root\n",
      " |-- VendorID: integer (nullable = true)\n",
      " |-- tpep_pickup_datetime: timestamp (nullable = true)\n",
      " |-- tpep_dropoff_datetime: timestamp (nullable = true)\n",
      " |-- passenger_count: integer (nullable = true)\n",
      " |-- trip_distance: double (nullable = true)\n",
      " |-- RatecodeID: integer (nullable = true)\n",
      " |-- store_and_fwd_flag: string (nullable = true)\n",
      " |-- PULocationID: integer (nullable = true)\n",
      " |-- DOLocationID: integer (nullable = true)\n",
      " |-- payment_type: integer (nullable = true)\n",
      " |-- fare_amount: double (nullable = true)\n",
      " |-- extra: double (nullable = true)\n",
      " |-- mta_tax: double (nullable = true)\n",
      " |-- tip_amount: double (nullable = true)\n",
      " |-- tolls_amount: double (nullable = true)\n",
      " |-- improvement_surcharge: double (nullable = true)\n",
      " |-- total_amount: double (nullable = true)\n",
      " |-- congestion_surcharge: double (nullable = true)\n",
      "\n"
     ]
    }
   ],
   "source": [
    "print(\"Green Schema\")\n",
    "df_green.printSchema()\n",
    "print(\"Yellow Schema\")\n",
    "df_yellow.printSchema()"
   ]
  },
  {
   "cell_type": "code",
   "execution_count": 47,
   "id": "acb33282-299c-4364-bbb0-985249c7f7f6",
   "metadata": {},
   "outputs": [],
   "source": [
    "# Rename Columns so both df can benefit from the time stamps in common columns\n",
    "df_green = df_green.withColumnsRenamed(\n",
    "    {\n",
    "        \"lpep_pickup_datetime\":\"pickup_datetime\",\n",
    "        \"lpep_dropoff_datetime\":\"dropoff_datetime\",\n",
    "    }\n",
    ")\n",
    "\n",
    "df_yellow = df_yellow.withColumnsRenamed(\n",
    "    {\n",
    "        \"tpep_pickup_datetime\":\"pickup_datetime\",\n",
    "        \"tpep_dropoff_datetime\":\"dropoff_datetime\",\n",
    "    }\n",
    ")"
   ]
  },
  {
   "cell_type": "code",
   "execution_count": 48,
   "id": "342b775b-acb5-4cb5-bf48-2b5d52c7d519",
   "metadata": {},
   "outputs": [
    {
     "data": {
      "text/plain": [
       "{'DOLocationID',\n",
       " 'PULocationID',\n",
       " 'RatecodeID',\n",
       " 'VendorID',\n",
       " 'congestion_surcharge',\n",
       " 'dropoff_datetime',\n",
       " 'extra',\n",
       " 'fare_amount',\n",
       " 'improvement_surcharge',\n",
       " 'mta_tax',\n",
       " 'passenger_count',\n",
       " 'payment_type',\n",
       " 'pickup_datetime',\n",
       " 'store_and_fwd_flag',\n",
       " 'tip_amount',\n",
       " 'tolls_amount',\n",
       " 'total_amount',\n",
       " 'trip_distance'}"
      ]
     },
     "execution_count": 48,
     "metadata": {},
     "output_type": "execute_result"
    }
   ],
   "source": [
    "# use set to get the intersection of both green and yellow columns\n",
    "set(df_green.columns) & set(df_yellow.columns)"
   ]
  },
  {
   "cell_type": "code",
   "execution_count": 53,
   "id": "8ff536be-ce66-4bda-a184-63f39feecdd8",
   "metadata": {},
   "outputs": [
    {
     "data": {
      "text/plain": [
       "['VendorID',\n",
       " 'pickup_datetime',\n",
       " 'dropoff_datetime',\n",
       " 'store_and_fwd_flag',\n",
       " 'RatecodeID',\n",
       " 'PULocationID',\n",
       " 'DOLocationID',\n",
       " 'passenger_count',\n",
       " 'trip_distance',\n",
       " 'fare_amount',\n",
       " 'extra',\n",
       " 'mta_tax',\n",
       " 'tip_amount',\n",
       " 'tolls_amount',\n",
       " 'improvement_surcharge',\n",
       " 'total_amount',\n",
       " 'payment_type',\n",
       " 'congestion_surcharge']"
      ]
     },
     "execution_count": 53,
     "metadata": {},
     "output_type": "execute_result"
    }
   ],
   "source": [
    "# For preserving the correct columns order.\n",
    "common_columns = []\n",
    "for column in df_green.columns:\n",
    "    if column in df_yellow.columns:\n",
    "        common_columns.append(column)\n",
    "common_columns"
   ]
  },
  {
   "cell_type": "code",
   "execution_count": null,
   "id": "8144161d-65c7-46e0-90b3-5f6ff3983653",
   "metadata": {},
   "outputs": [],
   "source": [
    "# Storing the columns for further usage.\n",
    "common_columns = ['VendorID',\n",
    " 'pickup_datetime',\n",
    " 'dropoff_datetime',\n",
    " 'store_and_fwd_flag',\n",
    " 'RatecodeID',\n",
    " 'PULocationID',\n",
    " 'DOLocationID',\n",
    " 'passenger_count',\n",
    " 'trip_distance',\n",
    " 'fare_amount',\n",
    " 'extra',\n",
    " 'mta_tax',\n",
    " 'tip_amount',\n",
    " 'tolls_amount',\n",
    " 'improvement_surcharge',\n",
    " 'total_amount',\n",
    " 'payment_type',\n",
    " 'congestion_surcharge']"
   ]
  },
  {
   "cell_type": "code",
   "execution_count": 62,
   "id": "8c2345fc-8919-40cb-b92f-2b98e1e8f3de",
   "metadata": {},
   "outputs": [],
   "source": [
    "# Prepare the datasets with preserved column order and add a service type column\n",
    "df_green_sort = df_green \\\n",
    "    .select(common_columns) \\\n",
    "    .withColumn('service_type', F.lit('Green'))\n",
    "\n",
    "df_yellow_sort = df_yellow \\\n",
    "    .select(common_columns) \\\n",
    "    .withColumn('service_type', F.lit('Yellow'))\n",
    "\n"
   ]
  },
  {
   "cell_type": "code",
   "execution_count": 66,
   "id": "7efc5017-203e-4d51-a776-ab76f84b0488",
   "metadata": {},
   "outputs": [],
   "source": [
    "# Union both datasets\n",
    "df_trips_data = df_green_sort.unionAll(df_yellow_sort)"
   ]
  },
  {
   "cell_type": "code",
   "execution_count": 72,
   "id": "bd40786f-1194-47f2-855b-c04768ed5c70",
   "metadata": {
    "scrolled": true
   },
   "outputs": [
    {
     "name": "stderr",
     "output_type": "stream",
     "text": [
      "[Stage 13:====================================================>   (14 + 1) / 15]"
     ]
    },
    {
     "name": "stdout",
     "output_type": "stream",
     "text": [
      "+------------+--------+\n",
      "|service_type|   count|\n",
      "+------------+--------+\n",
      "|       Green| 2304517|\n",
      "|      Yellow|39649199|\n",
      "+------------+--------+\n",
      "\n"
     ]
    },
    {
     "name": "stderr",
     "output_type": "stream",
     "text": [
      "                                                                                "
     ]
    }
   ],
   "source": [
    "# Testing\n",
    "df_trips_data \\\n",
    "    .groupBy('service_type') \\\n",
    "    .count().show()"
   ]
  },
  {
   "cell_type": "code",
   "execution_count": null,
   "id": "1e90c0b2-ea34-4c0d-a5f6-4da05c22a022",
   "metadata": {},
   "outputs": [],
   "source": [
    "# This is deprecated \n",
    "# df_trips_data.registerTempTable('trips_data')"
   ]
  },
  {
   "cell_type": "code",
   "execution_count": 80,
   "id": "1db4aa76-32f2-414d-90da-998056db8c35",
   "metadata": {},
   "outputs": [],
   "source": [
    "# Use this instead\n",
    "# df needs a temporary view so it can be used in the sql block bellow\n",
    "df_trips_data.createOrReplaceTempView('trips_data')"
   ]
  },
  {
   "cell_type": "code",
   "execution_count": 82,
   "id": "d08f83f8-a060-4ff6-8180-8426d74f0961",
   "metadata": {
    "scrolled": true
   },
   "outputs": [
    {
     "name": "stderr",
     "output_type": "stream",
     "text": [
      "[Stage 25:================================================>       (13 + 1) / 15]"
     ]
    },
    {
     "name": "stdout",
     "output_type": "stream",
     "text": [
      "+------------+--------+\n",
      "|service_type|count(1)|\n",
      "+------------+--------+\n",
      "|       Green| 2304517|\n",
      "|      Yellow|39649199|\n",
      "+------------+--------+\n",
      "\n"
     ]
    },
    {
     "name": "stderr",
     "output_type": "stream",
     "text": [
      "                                                                                "
     ]
    }
   ],
   "source": [
    "spark.sql(\n",
    "    \"\"\"\n",
    "    SELECT \n",
    "        service_type, \n",
    "        count(*) \n",
    "    FROM \n",
    "        trips_data \n",
    "    GROUP BY service_type;\n",
    "    \"\"\"\n",
    ").show()"
   ]
  },
  {
   "cell_type": "code",
   "execution_count": 84,
   "id": "0cc9e66c-2db3-4f0d-84a3-2e2aad38a891",
   "metadata": {},
   "outputs": [],
   "source": [
    "df_result = spark.sql(\n",
    "    \"\"\"\n",
    "    SELECT \n",
    "        -- Reveneue grouping \n",
    "        PULocationID AS revenue_zone,\n",
    "        date_trunc('month', pickup_datetime) AS revenue_month, \n",
    "        service_type, \n",
    "    \n",
    "        -- Revenue calculation \n",
    "        SUM(fare_amount) AS revenue_monthly_fare,\n",
    "        SUM(extra) AS revenue_monthly_extra,\n",
    "        SUM(mta_tax) AS revenue_monthly_mta_tax,\n",
    "        SUM(tip_amount) AS revenue_monthly_tip_amount,\n",
    "        SUM(tolls_amount) AS revenue_monthly_tolls_amount,\n",
    "        SUM(improvement_surcharge) AS revenue_monthly_improvement_surcharge,\n",
    "        SUM(total_amount) AS revenue_monthly_total_amount,\n",
    "        SUM(congestion_surcharge) AS revenue_monthly_congestion_surcharge,\n",
    "    \n",
    "        -- Additional calculations\n",
    "        AVG(passenger_count) AS avg_montly_passenger_count,\n",
    "        AVG(trip_distance) AS avg_montly_trip_distance\n",
    "    FROM\n",
    "        trips_data\n",
    "    GROUP BY\n",
    "        1, 2, 3\n",
    "    \"\"\"\n",
    ")"
   ]
  },
  {
   "cell_type": "code",
   "execution_count": 88,
   "id": "0a1de1dd-c83c-47b5-908d-2dfa4e4a882e",
   "metadata": {},
   "outputs": [
    {
     "name": "stderr",
     "output_type": "stream",
     "text": [
      "                                                                                "
     ]
    }
   ],
   "source": [
    "# wirte the results to a parquet file.\n",
    "local_path='data/report/revenue'\n",
    "\n",
    "df_result \\\n",
    "    .coalesce(1) \\\n",
    "    .write.parquet(local_path, mode='overwrite')"
   ]
  },
  {
   "cell_type": "code",
   "execution_count": null,
   "id": "c6d564d7-194e-4278-837c-b0f5f4de8e3b",
   "metadata": {},
   "outputs": [],
   "source": []
  }
 ],
 "metadata": {
  "kernelspec": {
   "display_name": "Python 3 (ipykernel)",
   "language": "python",
   "name": "python3"
  },
  "language_info": {
   "codemirror_mode": {
    "name": "ipython",
    "version": 3
   },
   "file_extension": ".py",
   "mimetype": "text/x-python",
   "name": "python",
   "nbconvert_exporter": "python",
   "pygments_lexer": "ipython3",
   "version": "3.12.9"
  }
 },
 "nbformat": 4,
 "nbformat_minor": 5
}
