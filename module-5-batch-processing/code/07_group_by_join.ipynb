{
 "cells": [
  {
   "cell_type": "markdown",
   "id": "96d31120-c53f-4ec5-b261-d0abdb8fef8a",
   "metadata": {},
   "source": [
    "## Group by"
   ]
  },
  {
   "cell_type": "code",
   "execution_count": 6,
   "id": "b676bcce-f761-4592-9e39-ab3509117bdf",
   "metadata": {},
   "outputs": [],
   "source": [
    "import pyspark\n",
    "from pyspark.sql import SparkSession"
   ]
  },
  {
   "cell_type": "code",
   "execution_count": null,
   "id": "8945eb56-28ba-453c-b915-1eabe2de277b",
   "metadata": {
    "scrolled": true
   },
   "outputs": [],
   "source": [
    "spark = SparkSession.builder \\\n",
    "    .master('local[*]') \\\n",
    "    .appName('test') \\\n",
    "    .getOrCreate()"
   ]
  },
  {
   "cell_type": "code",
   "execution_count": 4,
   "id": "e593c93e-9f82-42f4-8b72-975288e8b59b",
   "metadata": {
    "scrolled": true
   },
   "outputs": [
    {
     "data": {
      "text/html": [
       "\n",
       "            <div>\n",
       "                <p><b>SparkSession - in-memory</b></p>\n",
       "                \n",
       "        <div>\n",
       "            <p><b>SparkContext</b></p>\n",
       "\n",
       "            <p><a href=\"http://spark-exec.southamerica-east1-c.c.de-zoomcamp-25-449418.internal:4040\">Spark UI</a></p>\n",
       "\n",
       "            <dl>\n",
       "              <dt>Version</dt>\n",
       "                <dd><code>v3.5.3</code></dd>\n",
       "              <dt>Master</dt>\n",
       "                <dd><code>local[*]</code></dd>\n",
       "              <dt>AppName</dt>\n",
       "                <dd><code>test</code></dd>\n",
       "            </dl>\n",
       "        </div>\n",
       "        \n",
       "            </div>\n",
       "        "
      ],
      "text/plain": [
       "<pyspark.sql.session.SparkSession at 0x7580b6b8b8f0>"
      ]
     },
     "execution_count": 4,
     "metadata": {},
     "output_type": "execute_result"
    }
   ],
   "source": [
    "spark"
   ]
  },
  {
   "cell_type": "code",
   "execution_count": 26,
   "id": "b2fdcec3-2b29-43c9-971a-84a8b422d174",
   "metadata": {},
   "outputs": [],
   "source": [
    "# spark green dataset + temp view\n",
    "local_path = 'data/pq/green/*/*'\n",
    "df_green = spark.read.parquet(local_path)\n",
    "df_green.createOrReplaceTempView('green')"
   ]
  },
  {
   "cell_type": "code",
   "execution_count": 27,
   "id": "5a27975b-bedd-48b2-8c00-3c79a436ddec",
   "metadata": {},
   "outputs": [],
   "source": [
    "df_green_revenue = spark.sql(\"\"\"\n",
    "    SELECT \n",
    "        date_trunc('hour', lpep_pickup_datetime) AS hour, \n",
    "        PULocationID AS zone,\n",
    "    \n",
    "        SUM(total_amount) AS amount,\n",
    "        COUNT(1) AS number_records\n",
    "    FROM\n",
    "        green\n",
    "    WHERE\n",
    "        lpep_pickup_datetime >= '2020-01-01 00:00:00'\n",
    "    GROUP BY\n",
    "        1, 2\n",
    "\"\"\")"
   ]
  },
  {
   "cell_type": "code",
   "execution_count": 28,
   "id": "67875751-7fc3-4c94-b763-8939a067200a",
   "metadata": {},
   "outputs": [
    {
     "name": "stderr",
     "output_type": "stream",
     "text": [
      "                                                                                "
     ]
    }
   ],
   "source": [
    "# Green Results to parquet file\n",
    "output_path = 'data/report/revenue/green'\n",
    "df_green_revenue \\\n",
    "    .repartition(20) \\\n",
    "    .write.parquet(output_path, mode='overwrite')"
   ]
  },
  {
   "cell_type": "code",
   "execution_count": 30,
   "id": "35349f1f-fd77-434e-bbaa-1fa283d842c3",
   "metadata": {},
   "outputs": [],
   "source": [
    "# spark yellow dataset + temp view\n",
    "local_path = 'data/pq/yellow/*/*'\n",
    "df_yellow = spark.read.parquet(local_path)\n",
    "df_yellow.createOrReplaceTempView('yellow')"
   ]
  },
  {
   "cell_type": "code",
   "execution_count": 31,
   "id": "e0226fb9-e735-4c2d-81c6-d098ee8da3ed",
   "metadata": {},
   "outputs": [],
   "source": [
    "df_yellow_revenue = spark.sql(\"\"\"\n",
    "    SELECT \n",
    "        date_trunc('hour', tpep_pickup_datetime) AS hour, \n",
    "        PULocationID AS zone,\n",
    "    \n",
    "        SUM(total_amount) AS amount,\n",
    "        COUNT(1) AS number_records\n",
    "    FROM\n",
    "        yellow\n",
    "    WHERE\n",
    "        tpep_pickup_datetime >= '2020-01-01 00:00:00'\n",
    "    GROUP BY\n",
    "        1, 2\n",
    "\"\"\")"
   ]
  },
  {
   "cell_type": "code",
   "execution_count": 33,
   "id": "b70b1f1e-306b-40bb-a14f-d103f66afa6d",
   "metadata": {},
   "outputs": [
    {
     "name": "stderr",
     "output_type": "stream",
     "text": [
      "                                                                                "
     ]
    }
   ],
   "source": [
    "# Green Results to parquet file\n",
    "output_path = 'data/report/revenue/yellow'\n",
    "df_yellow_revenue \\\n",
    "    .repartition(20) \\\n",
    "    .write.parquet(output_path, mode='overwrite')"
   ]
  },
  {
   "cell_type": "markdown",
   "id": "1856a84b-d8dd-4635-be03-9d51e714f780",
   "metadata": {},
   "source": [
    "## Joins"
   ]
  },
  {
   "cell_type": "code",
   "execution_count": 41,
   "id": "0d77d8ca-7994-4fd5-8601-d7ef473eb386",
   "metadata": {},
   "outputs": [],
   "source": [
    "# spark dataframes \n",
    "g_file_path = 'data/report/revenue/green'\n",
    "y_file_path = 'data/report/revenue/yellow'\n",
    "df_green_revenue = spark.read.parquet(g_file_path)\n",
    "df_yellow_revenue = spark.read.parquet(y_file_path)"
   ]
  },
  {
   "cell_type": "code",
   "execution_count": 42,
   "id": "c5a82203-1655-4165-bb8b-65e0fc978c46",
   "metadata": {},
   "outputs": [],
   "source": [
    "# rename columns\n",
    "df_green_revenue_tmp = df_green_revenue \\\n",
    "    .withColumnRenamed('amount','green_amount') \\\n",
    "    .withColumnRenamed('number_records','green_number_records')\n",
    "\n",
    "df_yellow_revenue_tmp = df_yellow_revenue \\\n",
    "    .withColumnRenamed('amount','yellow_amount') \\\n",
    "    .withColumnRenamed('number_records','yellow_number_records')"
   ]
  },
  {
   "cell_type": "code",
   "execution_count": 43,
   "id": "2c8dfdda-3c09-4f83-bdc2-61762959ff5e",
   "metadata": {},
   "outputs": [],
   "source": [
    "# Spark join\n",
    "df_join = df_green_revenue_tmp.join(other=df_yellow_revenue_tmp, on=['hour','zone'], how='outer')"
   ]
  },
  {
   "cell_type": "code",
   "execution_count": 44,
   "id": "1a718f4c-c3af-4d24-baf0-0c76a515fa7c",
   "metadata": {},
   "outputs": [
    {
     "name": "stderr",
     "output_type": "stream",
     "text": [
      "                                                                                "
     ]
    }
   ],
   "source": [
    "# Save results as parquet file\n",
    "output_path = 'data/report/revenue/total'\n",
    "df_join.write.parquet(output_path, mode='overwrite')"
   ]
  },
  {
   "cell_type": "code",
   "execution_count": 47,
   "id": "e255b312-68fe-4af4-99b2-5056fe795c6b",
   "metadata": {},
   "outputs": [],
   "source": [
    "zones = spark.read.parquet('zones')"
   ]
  },
  {
   "cell_type": "code",
   "execution_count": 50,
   "id": "020188ac-3cdb-4584-9373-9aa408ad5426",
   "metadata": {},
   "outputs": [],
   "source": [
    "# Join on zones\n",
    "df_result = df_join.join(zones, [df_join.zone == zones.LocationID], 'left')"
   ]
  },
  {
   "cell_type": "code",
   "execution_count": 52,
   "id": "21f1d202-0b0e-4110-a4aa-4b5fff4c184a",
   "metadata": {},
   "outputs": [
    {
     "data": {
      "text/plain": [
       "['hour',\n",
       " 'zone',\n",
       " 'green_amount',\n",
       " 'green_number_records',\n",
       " 'yellow_amount',\n",
       " 'yellow_number_records',\n",
       " 'LocationID',\n",
       " 'Borough',\n",
       " 'Zone',\n",
       " 'service_zone']"
      ]
     },
     "execution_count": 52,
     "metadata": {},
     "output_type": "execute_result"
    }
   ],
   "source": [
    "df_result.columns"
   ]
  },
  {
   "cell_type": "code",
   "execution_count": null,
   "id": "c3316ec4-8ce1-486e-9b08-ff27d4a6151c",
   "metadata": {
    "scrolled": true
   },
   "outputs": [],
   "source": [
    "# Save results to parquet file (excluding columns in drop() )\n",
    "df_result \\\n",
    "    .drop('zone', 'LocationID') \\\n",
    "    .write.parquet('tmp/revenue-zones')"
   ]
  },
  {
   "cell_type": "code",
   "execution_count": null,
   "id": "903ddcbb-8a82-4106-8b98-6549ca2dff85",
   "metadata": {},
   "outputs": [],
   "source": []
  }
 ],
 "metadata": {
  "kernelspec": {
   "display_name": "Python 3 (ipykernel)",
   "language": "python",
   "name": "python3"
  },
  "language_info": {
   "codemirror_mode": {
    "name": "ipython",
    "version": 3
   },
   "file_extension": ".py",
   "mimetype": "text/x-python",
   "name": "python",
   "nbconvert_exporter": "python",
   "pygments_lexer": "ipython3",
   "version": "3.12.9"
  }
 },
 "nbformat": 4,
 "nbformat_minor": 5
}
