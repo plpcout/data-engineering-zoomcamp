{
 "cells": [
  {
   "cell_type": "markdown",
   "metadata": {},
   "source": [
    "# dlt exploration notebook"
   ]
  },
  {
   "cell_type": "code",
   "execution_count": 33,
   "metadata": {},
   "outputs": [],
   "source": [
    "import dlt\n",
    "from dlt.sources.helpers.rest_client import RESTClient\n",
    "from dlt.sources.helpers.rest_client.paginators import PageNumberPaginator\n",
    "import json\n"
   ]
  },
  {
   "cell_type": "code",
   "execution_count": 34,
   "metadata": {},
   "outputs": [],
   "source": [
    "# define the base URL of the API\n",
    "BASE_URL = \"https://us-central1-dlthub-analytics.cloudfunctions.net\"\n",
    "ENDPOINT = \"data_engineering_zoomcamp_api\"\n",
    "STARTING_PAGE = 1\n",
    "# define the endpoint we want to query\n",
    "\n",
    "# define a function that returns a paginated getter\n",
    "def paginated_getter():\n",
    "    # create a REST client with the base URL and a page number paginator\n",
    "    client = RESTClient(\n",
    "        base_url=BASE_URL,\n",
    "        paginator=PageNumberPaginator(\n",
    "          base_page=STARTING_PAGE,  # Start pagination from page 1\n",
    "          total_path=None  # No total count path, paginate until no more pages\n",
    "        )\n",
    "    )\n",
    "\n",
    "    # Iterate over each page of data from the API using the client\n",
    "    for page in client.paginate(ENDPOINT):\n",
    "        yield page  # Yield each page of data for processing"
   ]
  },
  {
   "cell_type": "code",
   "execution_count": 37,
   "metadata": {},
   "outputs": [
    {
     "name": "stdout",
     "output_type": "stream",
     "text": [
      "Page 1 - Total records: 1000\n",
      "Page 2 - Total records: 1000\n",
      "Page 3 - Total records: 1000\n",
      "Page 4 - Total records: 1000\n",
      "Page 5 - Total records: 1000\n",
      "Page 6 - Total records: 1000\n",
      "Page 7 - Total records: 1000\n",
      "Page 8 - Total records: 1000\n",
      "Page 9 - Total records: 1000\n",
      "Page 10 - Total records: 1000\n",
      "Page 11 - Total records: 0\n"
     ]
    }
   ],
   "source": [
    "page_num = STARTING_PAGE\n",
    "for page_data in paginated_getter():\n",
    "    if page_num == STARTING_PAGE:\n",
    "      # Store the first record as a sample for reference\n",
    "      sample_record = json.dumps(page_data[0], indent=2)\n",
    "    \n",
    "    # Print the total records on each page   \n",
    "    print(f\"Page {page_num} - Total records: {len(page_data)}\")\n",
    "    page_num+=1\n",
    "    # break"
   ]
  },
  {
   "cell_type": "code",
   "execution_count": 41,
   "metadata": {},
   "outputs": [
    {
     "name": "stdout",
     "output_type": "stream",
     "text": [
      "Sample Record: \n",
      " {\n",
      "  \"End_Lat\": 40.742963,\n",
      "  \"End_Lon\": -73.980072,\n",
      "  \"Fare_Amt\": 45.0,\n",
      "  \"Passenger_Count\": 1,\n",
      "  \"Payment_Type\": \"Credit\",\n",
      "  \"Rate_Code\": null,\n",
      "  \"Start_Lat\": 40.641525,\n",
      "  \"Start_Lon\": -73.787442,\n",
      "  \"Tip_Amt\": 9.0,\n",
      "  \"Tolls_Amt\": 4.15,\n",
      "  \"Total_Amt\": 58.15,\n",
      "  \"Trip_Distance\": 17.52,\n",
      "  \"Trip_Dropoff_DateTime\": \"2009-06-14 23:48:00\",\n",
      "  \"Trip_Pickup_DateTime\": \"2009-06-14 23:23:00\",\n",
      "  \"mta_tax\": null,\n",
      "  \"store_and_forward\": null,\n",
      "  \"surcharge\": 0.0,\n",
      "  \"vendor_name\": \"VTS\"\n",
      "}\n"
     ]
    }
   ],
   "source": [
    "# Print the sample record\n",
    "print(\"Sample Record: \\n\", sample_record)"
   ]
  },
  {
   "cell_type": "code",
   "execution_count": 39,
   "metadata": {},
   "outputs": [],
   "source": [
    "# dlt pipeline\n",
    "pipeline = dlt.pipeline(\n",
    "    pipeline_name=\"ny_taxi_pipeline\",\n",
    "    destination=\"duckdb\",\n",
    "    dataset_name=\"ny_taxi_data\" \n",
    ")\n"
   ]
  },
  {
   "cell_type": "code",
   "execution_count": 42,
   "metadata": {},
   "outputs": [
    {
     "name": "stdout",
     "output_type": "stream",
     "text": [
      "Pipeline ny_taxi_pipeline load step completed in 2.38 seconds\n",
      "1 load package(s) were loaded to destination duckdb and into dataset ny_taxi_data\n",
      "The duckdb destination used duckdb:////home/pedro/projects/data-engineering-zoomcamp/workshops/dlt-pipeline/ny_taxi_pipeline.duckdb location to store data\n",
      "Load package 1739389539.3857207 is LOADED and contains no failed jobs\n"
     ]
    }
   ],
   "source": [
    "# Load the data into the \"rides\" table in DuckDB, replacing any existing data.\n",
    "load_info = pipeline.run(\n",
    "  paginated_getter(),  # The generator function that retrieves paginated data\n",
    "  table_name=\"rides\",  # Specify the target table name\n",
    "  write_disposition=\"replace\"  # Replace the existing data in the table\n",
    ")\n",
    "\n",
    "print(load_info)"
   ]
  },
  {
   "cell_type": "code",
   "execution_count": null,
   "metadata": {},
   "outputs": [],
   "source": [
    "# Streamlit info\n",
    "!dlt pipeline ny_taxi_pipeline show"
   ]
  },
  {
   "cell_type": "markdown",
   "metadata": {},
   "source": [
    "### Data in duckdb\n",
    "\n",
    "As expected, 10,000 rows on duckDb\n",
    "\n",
    "![](assets/images/image.png)\n",
    "\n",
    "And the json file properly dumped into duckDb\n",
    "\n",
    "| Index | name                   | data_type | nullable |\n",
    "|-------|------------------------|-----------|----------|\n",
    "| 0     | end_lat                | double    | true     |\n",
    "| 1     | end_lon                | double    | true     |\n",
    "| 2     | fare_amt               | double    | true     |\n",
    "| 3     | passenger_count        | bigint    | true     |\n",
    "| 4     | payment_type           | text      | true     |\n",
    "| 5     | start_lat              | double    | true     |\n",
    "| 6     | start_lon              | double    | true     |\n",
    "| 7     | tip_amt                | double    | true     |\n",
    "| 8     | tolls_amt              | double    | true     |\n",
    "| 9     | total_amt              | double    | true     |\n",
    "| 10    | trip_distance          | double    | true     |\n",
    "| 11    | trip_dropoff_date_time | timestamp | true     |\n",
    "| 12    | trip_pickup_date_time  | timestamp | true     |\n",
    "| 13    | surcharge              | double    | true     |\n",
    "| 14    | vendor_name            | text      | true     |\n",
    "| 15    | _dlt_load_id           | text      | false    |\n",
    "| 16    | _dlt_id                | text      | false    |\n",
    "| 17    | store_and_forward      | double    | true     |\n"
   ]
  },
  {
   "cell_type": "markdown",
   "metadata": {},
   "source": []
  }
 ],
 "metadata": {
  "kernelspec": {
   "display_name": ".venv (3.13.1)",
   "language": "python",
   "name": "python3"
  },
  "language_info": {
   "codemirror_mode": {
    "name": "ipython",
    "version": 3
   },
   "file_extension": ".py",
   "mimetype": "text/x-python",
   "name": "python",
   "nbconvert_exporter": "python",
   "pygments_lexer": "ipython3",
   "version": "3.13.1"
  }
 },
 "nbformat": 4,
 "nbformat_minor": 2
}
