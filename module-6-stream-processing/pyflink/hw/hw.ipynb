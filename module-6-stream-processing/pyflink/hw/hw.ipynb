{
 "cells": [
  {
   "cell_type": "markdown",
   "id": "59779689-f6c2-431b-a13d-d3a9f7c6d6a5",
   "metadata": {},
   "source": [
    "## Q1"
   ]
  },
  {
   "cell_type": "code",
   "execution_count": 2,
   "id": "239ec125-abe7-4ad6-ab78-4ea0d8eccc4f",
   "metadata": {},
   "outputs": [
    {
     "name": "stdout",
     "output_type": "stream",
     "text": [
      "rpk version v24.2.18 (rev f9a22d4430)\n"
     ]
    }
   ],
   "source": [
    "!docker compose exec redpanda-1 rpk --version"
   ]
  },
  {
   "cell_type": "markdown",
   "id": "7b8ff849-b39f-4bef-85fa-c7f3ccc2d4a3",
   "metadata": {},
   "source": [
    "## Q2"
   ]
  },
  {
   "cell_type": "code",
   "execution_count": 9,
   "id": "9add346b-bf87-4dfd-bfa8-e02d9f6614f3",
   "metadata": {},
   "outputs": [
    {
     "name": "stdout",
     "output_type": "stream",
     "text": [
      "TOPIC        STATUS\n",
      "green-trips  OK\n"
     ]
    }
   ],
   "source": [
    "!docker compose exec redpanda-1 rpk topic create green-trips"
   ]
  },
  {
   "cell_type": "markdown",
   "id": "64b936b7-fb6b-4c10-80dd-d4bb647452a0",
   "metadata": {},
   "source": [
    "## Q3"
   ]
  },
  {
   "cell_type": "code",
   "execution_count": 56,
   "id": "3abad02d-bf45-41d3-9e88-deca7ebce6e1",
   "metadata": {},
   "outputs": [
    {
     "data": {
      "text/plain": [
       "True"
      ]
     },
     "execution_count": 56,
     "metadata": {},
     "output_type": "execute_result"
    }
   ],
   "source": [
    "import json\n",
    "\n",
    "from kafka import KafkaProducer\n",
    "\n",
    "def json_serializer(data):\n",
    "    return json.dumps(data).encode('utf-8')\n",
    "\n",
    "server = 'localhost:9092'\n",
    "\n",
    "producer = KafkaProducer(\n",
    "    bootstrap_servers=[server],\n",
    "    value_serializer=json_serializer\n",
    ")\n",
    "\n",
    "producer.bootstrap_connected()"
   ]
  },
  {
   "cell_type": "markdown",
   "id": "56c168b1-69cb-4ce0-8f74-315c693182a6",
   "metadata": {},
   "source": [
    "## Q4"
   ]
  },
  {
   "cell_type": "code",
   "execution_count": 4,
   "id": "b9aa712a-f551-423d-b49b-2786ee2c469d",
   "metadata": {
    "scrolled": true
   },
   "outputs": [
    {
     "name": "stdout",
     "output_type": "stream",
     "text": [
      "All messages sent successfully!\n",
      "Total time taken: 80.88 seconds\n"
     ]
    }
   ],
   "source": [
    "from time import time\n",
    "import json\n",
    "import pandas as pd\n",
    "from kafka import KafkaProducer\n",
    "\n",
    "def json_serializer(data):\n",
    "    for key, value in data.items():\n",
    "        if pd.isna(value):\n",
    "            data[key] = None\n",
    "        elif isinstance(value, pd.Timestamp):\n",
    "            data[key] = value.strftime('%Y-%m-%d %H:%M:%S')\n",
    "    return json.dumps(data).encode('utf-8')\n",
    "    \n",
    "required_columns = [\n",
    "    \"lpep_pickup_datetime\",\n",
    "    \"lpep_dropoff_datetime\",\n",
    "    \"PULocationID\",\n",
    "    \"DOLocationID\",\n",
    "    \"passenger_count\",\n",
    "    \"trip_distance\",\n",
    "    \"tip_amount\"\n",
    "]\n",
    "\n",
    "# Read the CSV file into a DataFrame\n",
    "csv_file_path = \"data/green_tripdata_2019-10.csv.gz\"\n",
    "\n",
    "df = pd.read_csv(\n",
    "    csv_file_path,\n",
    "    usecols=required_columns,\n",
    "    compression=\"gzip\",\n",
    "    parse_dates=['lpep_pickup_datetime', 'lpep_dropoff_datetime']\n",
    ")\n",
    "\n",
    "topic_name = \"green-trips\"\n",
    "\n",
    "# Kafka producer\n",
    "producer = KafkaProducer(\n",
    "    bootstrap_servers=\"localhost:9092\",\n",
    "    value_serializer=json_serializer\n",
    ")\n",
    "\n",
    "t0 = time()\n",
    "\n",
    "try:\n",
    "    dict_rows = df.to_dict(orient=\"records\")\n",
    "    # Send each row (message) to the topic\n",
    "    for row in dict_rows:\n",
    "        # Send the message to the topic\n",
    "        producer.send(topic_name, value=row)\n",
    "        \n",
    "    # Flush the producer to ensure all messages are sent\n",
    "    producer.flush()\n",
    "    print(\"All messages sent successfully!\")\n",
    "\n",
    "except Exception as e:\n",
    "    print(f\"Error sending messages: {e}\")\n",
    "\n",
    "finally:\n",
    "    # Close the producer (optional)\n",
    "    producer.close()\n",
    "    \n",
    "t1 = time()\n",
    "took = t1 - t0\n",
    "\n",
    "print(f\"Total time taken: {took:.2f} seconds\")"
   ]
  },
  {
   "cell_type": "markdown",
   "id": "49e34104-1ee0-428f-a092-88262cb72c95",
   "metadata": {},
   "source": [
    "## Q5"
   ]
  },
  {
   "cell_type": "markdown",
   "id": "d4af5f7d-48b7-4f60-8f28-d764093b0f22",
   "metadata": {},
   "source": [
    "For this question:\n",
    "1. Messages should be stored in Kafka topic (Q4)\n",
    "\n",
    "2. Run Apache Flink job (session_job.py)\n",
    "    - `make session_job`\n",
    "\n",
    "3. Query your postgres database:\n",
    "\n",
    "    - I used Cloudbeaver running on docker. \n",
    "\n",
    "    ```sql\n",
    "    SELECT\n",
    "      pulocationid AS pickup_location_id\n",
    "      ,dolocationid AS dropoff_location_id\n",
    "      ,streak_count\n",
    "      ,session_start\n",
    "      ,session_end\n",
    "      ,(session_end - session_start) session_duration\n",
    "    FROM\n",
    "      location_streaks ls\n",
    "    ORDER BY streak_count DESC\n",
    "    LIMIT 1\n",
    "    ```"
   ]
  },
  {
   "cell_type": "markdown",
   "id": "44283f61-5f27-480e-8718-8102168532ad",
   "metadata": {},
   "source": [
    "Expected output:\n",
    "\n",
    "| pickup_location_id | dropoff_location_id | streak_count | session_start | session_end | session_duration |\n",
    "|---|---|---|---|---|---|\n",
    "| 95 | 95 |\t44\t| 2019-10-16 18:18:42.000\t| 2019-10-16 19:26:16.000\t| 01:07:34 |"
   ]
  }
 ],
 "metadata": {
  "kernelspec": {
   "display_name": "Python 3 (ipykernel)",
   "language": "python",
   "name": "python3"
  },
  "language_info": {
   "codemirror_mode": {
    "name": "ipython",
    "version": 3
   },
   "file_extension": ".py",
   "mimetype": "text/x-python",
   "name": "python",
   "nbconvert_exporter": "python",
   "pygments_lexer": "ipython3",
   "version": "3.12.9"
  }
 },
 "nbformat": 4,
 "nbformat_minor": 5
}
